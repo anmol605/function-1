{
  "nbformat": 4,
  "nbformat_minor": 0,
  "metadata": {
    "colab": {
      "provenance": []
    },
    "kernelspec": {
      "name": "python3",
      "display_name": "Python 3"
    },
    "language_info": {
      "name": "python"
    }
  },
  "cells": [
    {
      "cell_type": "markdown",
      "source": [],
      "metadata": {
        "id": "BNNUJ8aCJm7e"
      }
    },
    {
      "cell_type": "markdown",
      "source": [
        "#function\n"
      ],
      "metadata": {
        "id": "VOf2h6IgJn_I"
      }
    },
    {
      "cell_type": "markdown",
      "source": [
        "1. What is the differnce between function and a method in phyton ?\n",
        "\n",
        "  - Function: A function is a block of code that performs a specific task and is defined independently. It's called directly by its name and can accept arguments as input.\n",
        "   "
      ],
      "metadata": {
        "id": "gPXQqvHFJsNu"
      }
    }
  ]
}